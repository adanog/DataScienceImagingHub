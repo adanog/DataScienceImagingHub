{
  "cells": [
    {
      "cell_type": "markdown",
      "metadata": {
        "id": "view-in-github",
        "colab_type": "text"
      },
      "source": [
        "<a href=\"https://colab.research.google.com/github/adanog/DataScienceImagingHub/blob/main/241016_LoadIamges_CreateMergedImage.ipynb\" target=\"_parent\"><img src=\"https://colab.research.google.com/assets/colab-badge.svg\" alt=\"Open In Colab\"/></a>"
      ]
    },
    {
      "cell_type": "markdown",
      "id": "0c814820",
      "metadata": {
        "id": "0c814820"
      },
      "source": [
        "# About the notebook\n",
        "The purpose of this Jupyter Notebook is to open two images from two channels, one of brightfield and the other of fluorescence\n"
      ]
    },
    {
      "cell_type": "markdown",
      "id": "3ad28b6b",
      "metadata": {
        "id": "3ad28b6b"
      },
      "source": [
        "# 00 - Special Instructions for Google Colab Users\n",
        "\n",
        "The following lines of code should be executed only when running your script on Google Colab. This is crucial to leverage the additional features provided by Colab, most notably, the availability of a free GPU.  **If, you're running the code locally, this line can be skipped (GO TO STEP 01 - Loading dependencies) as it pertains specifically to the Colab setup.**\n",
        "\n",
        "## Give access to google drive"
      ]
    },
    {
      "cell_type": "code",
      "execution_count": null,
      "id": "8060f967",
      "metadata": {
        "colab": {
          "base_uri": "https://localhost:8080/"
        },
        "id": "8060f967",
        "outputId": "fbb48ff5-0161-4af7-965a-765c73f3d06a"
      },
      "outputs": [
        {
          "output_type": "stream",
          "name": "stdout",
          "text": [
            "Drive already mounted at /content/drive; to attempt to forcibly remount, call drive.mount(\"/content/drive\", force_remount=True).\n"
          ]
        }
      ],
      "source": [
        "from google.colab import drive\n",
        "drive.mount('/content/drive')"
      ]
    },
    {
      "cell_type": "markdown",
      "source": [
        "Create stacks from two channels, run only if necessary\n",
        "\n",
        "The model require one single image from 2 channels in tif format. This cell is create single images from to brightfield and fluorescence image to a single one."
      ],
      "metadata": {
        "id": "A4l3g1wM2-0v"
      },
      "id": "A4l3g1wM2-0v"
    },
    {
      "cell_type": "code",
      "source": [
        "!pip install Pillow numpy tifffile"
      ],
      "metadata": {
        "colab": {
          "base_uri": "https://localhost:8080/"
        },
        "id": "VCUUp7evuxay",
        "outputId": "940b67af-86e4-42e8-ad25-c15356cbce3c"
      },
      "id": "VCUUp7evuxay",
      "execution_count": null,
      "outputs": [
        {
          "output_type": "stream",
          "name": "stdout",
          "text": [
            "Requirement already satisfied: Pillow in /usr/local/lib/python3.10/dist-packages (10.4.0)\n",
            "Requirement already satisfied: numpy in /usr/local/lib/python3.10/dist-packages (1.26.4)\n",
            "Requirement already satisfied: tifffile in /usr/local/lib/python3.10/dist-packages (2024.9.20)\n"
          ]
        }
      ]
    },
    {
      "cell_type": "code",
      "source": [
        "import os\n",
        "import numpy as np\n",
        "import tifffile as tiff\n",
        "\n",
        "# Paths to the directories\n",
        "campo_claro_dir = '/content/drive/MyDrive/.../Brightfield'\n",
        "fluorescencia_dir = '/content/drive/MyDrive/.../Fluorescence'\n",
        "\n",
        "# Get all TIFF files from both directories\n",
        "campo_claro_files = sorted([os.path.join(campo_claro_dir, f) for f in os.listdir(campo_claro_dir) if f.endswith('.ome.tif')])\n",
        "fluorescencia_files = sorted([os.path.join(fluorescencia_dir, f) for f in os.listdir(fluorescencia_dir) if f.endswith('.ome.tif')])\n",
        "\n",
        "# Check that we have the same number of files in both directories\n",
        "if len(campo_claro_files) != len(fluorescencia_files):\n",
        "    raise ValueError(\"Number of images in 'Brightfield' and 'Fluorescence' must match.\")\n",
        "\n",
        "# Process each pair of files\n",
        "for i, (file1_path, file2_path) in enumerate(zip(campo_claro_files, fluorescencia_files)):\n",
        "    # Read the images using tifffile\n",
        "    image1 = tiff.imread(file1_path)\n",
        "    image2 = tiff.imread(file2_path)\n",
        "\n",
        "    # Ensure both images have the same size\n",
        "    if image1.shape != image2.shape:\n",
        "        raise ValueError(f\"Images {file1_path} and {file2_path} must be the same size to concatenate them as channels.\")\n",
        "\n",
        "    # Convert to appropriate shape if necessary\n",
        "    if image1.ndim == 3 and image1.shape[0] > 1:\n",
        "        image1 = image1.transpose(1, 2, 0)  # Change from (C, H, W) to (H, W, C)\n",
        "    if image2.ndim == 3 and image2.shape[0] > 1:\n",
        "        image2 = image2.transpose(1, 2, 0)\n",
        "\n",
        "    # Stack the images along a new channel dimension\n",
        "    concatenated = np.stack((image1, image2), axis=-1)  # Shape will be (H, W, C, 2)\n",
        "\n",
        "    # Convert to shape (C, H, W) for TIFF\n",
        "    concatenated = np.moveaxis(concatenated, -1, 0)  # Now shape is (2, H, W)\n",
        "\n",
        "    # Save the concatenated image\n",
        "    output_path = f'/content/drive/MyDrive/.../MergedChannels/concatenated_image_{i+1}.tif'\n",
        "    tiff.imwrite(output_path, concatenated)\n",
        "\n",
        "    # print(f\"Concatenated image saved at {output_path} with shape: {concatenated.shape}\")\n"
      ],
      "metadata": {
        "id": "-yLsnuzXwg6q",
        "collapsed": true,
        "colab": {
          "base_uri": "https://localhost:8080/"
        },
        "outputId": "47ef8b0d-11db-4412-cf01-83aa2b21e89b"
      },
      "id": "-yLsnuzXwg6q",
      "execution_count": null,
      "outputs": [
        {
          "output_type": "stream",
          "name": "stderr",
          "text": [
            "WARNING:tifffile:<tifffile.TiffTag 266 @82> raised ValueError('0 is not a valid FILLORDER')\n",
            "WARNING:tifffile:<tifffile.TiffPage 0 @8> invalid self.subfiletype=b'\\x02\\x00'\n",
            "WARNING:tifffile:<tifffile.TiffTag 266 @82> raised ValueError('0 is not a valid FILLORDER')\n",
            "WARNING:tifffile:<tifffile.TiffPage 0 @8> invalid self.subfiletype=b'\\x02\\x00'\n",
            "WARNING:tifffile:<tifffile.TiffTag 266 @82> raised ValueError('0 is not a valid FILLORDER')\n",
            "WARNING:tifffile:<tifffile.TiffPage 0 @8> invalid self.subfiletype=b'\\x02\\x00'\n",
            "WARNING:tifffile:<tifffile.TiffTag 266 @82> raised ValueError('0 is not a valid FILLORDER')\n",
            "WARNING:tifffile:<tifffile.TiffPage 0 @8> invalid self.subfiletype=b'\\x02\\x00'\n",
            "WARNING:tifffile:<tifffile.TiffTag 266 @82> raised ValueError('0 is not a valid FILLORDER')\n",
            "WARNING:tifffile:<tifffile.TiffPage 0 @8> invalid self.subfiletype=b'\\x02\\x00'\n",
            "WARNING:tifffile:<tifffile.TiffTag 266 @82> raised ValueError('0 is not a valid FILLORDER')\n",
            "WARNING:tifffile:<tifffile.TiffPage 0 @8> invalid self.subfiletype=b'\\x02\\x00'\n",
            "WARNING:tifffile:<tifffile.TiffTag 266 @82> raised ValueError('0 is not a valid FILLORDER')\n",
            "WARNING:tifffile:<tifffile.TiffPage 0 @8> invalid self.subfiletype=b'\\x02\\x00'\n",
            "WARNING:tifffile:<tifffile.TiffTag 266 @82> raised ValueError('0 is not a valid FILLORDER')\n",
            "WARNING:tifffile:<tifffile.TiffPage 0 @8> invalid self.subfiletype=b'\\x02\\x00'\n",
            "WARNING:tifffile:<tifffile.TiffTag 266 @82> raised ValueError('0 is not a valid FILLORDER')\n",
            "WARNING:tifffile:<tifffile.TiffPage 0 @8> invalid self.subfiletype=b'\\x02\\x00'\n",
            "WARNING:tifffile:<tifffile.TiffTag 266 @82> raised ValueError('0 is not a valid FILLORDER')\n",
            "WARNING:tifffile:<tifffile.TiffPage 0 @8> invalid self.subfiletype=b'\\x02\\x00'\n",
            "WARNING:tifffile:<tifffile.TiffTag 266 @82> raised ValueError('0 is not a valid FILLORDER')\n",
            "WARNING:tifffile:<tifffile.TiffPage 0 @8> invalid self.subfiletype=b'\\x02\\x00'\n",
            "WARNING:tifffile:<tifffile.TiffTag 266 @82> raised ValueError('0 is not a valid FILLORDER')\n",
            "WARNING:tifffile:<tifffile.TiffPage 0 @8> invalid self.subfiletype=b'\\x02\\x00'\n",
            "WARNING:tifffile:<tifffile.TiffTag 266 @82> raised ValueError('0 is not a valid FILLORDER')\n",
            "WARNING:tifffile:<tifffile.TiffPage 0 @8> invalid self.subfiletype=b'\\x02\\x00'\n",
            "WARNING:tifffile:<tifffile.TiffTag 266 @82> raised ValueError('0 is not a valid FILLORDER')\n",
            "WARNING:tifffile:<tifffile.TiffPage 0 @8> invalid self.subfiletype=b'\\x02\\x00'\n",
            "WARNING:tifffile:<tifffile.TiffTag 266 @82> raised ValueError('0 is not a valid FILLORDER')\n",
            "WARNING:tifffile:<tifffile.TiffPage 0 @8> invalid self.subfiletype=b'\\x02\\x00'\n",
            "WARNING:tifffile:<tifffile.TiffTag 266 @82> raised ValueError('0 is not a valid FILLORDER')\n",
            "WARNING:tifffile:<tifffile.TiffPage 0 @8> invalid self.subfiletype=b'\\x02\\x00'\n",
            "WARNING:tifffile:<tifffile.TiffTag 266 @82> raised ValueError('0 is not a valid FILLORDER')\n",
            "WARNING:tifffile:<tifffile.TiffPage 0 @8> invalid self.subfiletype=b'\\x02\\x00'\n",
            "WARNING:tifffile:<tifffile.TiffTag 266 @82> raised ValueError('0 is not a valid FILLORDER')\n",
            "WARNING:tifffile:<tifffile.TiffPage 0 @8> invalid self.subfiletype=b'\\x02\\x00'\n",
            "WARNING:tifffile:<tifffile.TiffTag 266 @82> raised ValueError('0 is not a valid FILLORDER')\n",
            "WARNING:tifffile:<tifffile.TiffPage 0 @8> invalid self.subfiletype=b'\\x02\\x00'\n",
            "WARNING:tifffile:<tifffile.TiffTag 266 @82> raised ValueError('0 is not a valid FILLORDER')\n",
            "WARNING:tifffile:<tifffile.TiffPage 0 @8> invalid self.subfiletype=b'\\x02\\x00'\n",
            "WARNING:tifffile:<tifffile.TiffTag 266 @82> raised ValueError('0 is not a valid FILLORDER')\n",
            "WARNING:tifffile:<tifffile.TiffPage 0 @8> invalid self.subfiletype=b'\\x02\\x00'\n",
            "WARNING:tifffile:<tifffile.TiffTag 266 @82> raised ValueError('0 is not a valid FILLORDER')\n",
            "WARNING:tifffile:<tifffile.TiffPage 0 @8> invalid self.subfiletype=b'\\x02\\x00'\n",
            "WARNING:tifffile:<tifffile.TiffTag 266 @82> raised ValueError('0 is not a valid FILLORDER')\n",
            "WARNING:tifffile:<tifffile.TiffPage 0 @8> invalid self.subfiletype=b'\\x02\\x00'\n",
            "WARNING:tifffile:<tifffile.TiffTag 266 @82> raised ValueError('0 is not a valid FILLORDER')\n",
            "WARNING:tifffile:<tifffile.TiffPage 0 @8> invalid self.subfiletype=b'\\x02\\x00'\n",
            "WARNING:tifffile:<tifffile.TiffTag 266 @82> raised ValueError('0 is not a valid FILLORDER')\n",
            "WARNING:tifffile:<tifffile.TiffPage 0 @8> invalid self.subfiletype=b'\\x02\\x00'\n",
            "WARNING:tifffile:<tifffile.TiffTag 266 @82> raised ValueError('0 is not a valid FILLORDER')\n",
            "WARNING:tifffile:<tifffile.TiffPage 0 @8> invalid self.subfiletype=b'\\x02\\x00'\n",
            "WARNING:tifffile:<tifffile.TiffTag 266 @82> raised ValueError('0 is not a valid FILLORDER')\n",
            "WARNING:tifffile:<tifffile.TiffPage 0 @8> invalid self.subfiletype=b'\\x02\\x00'\n",
            "WARNING:tifffile:<tifffile.TiffTag 266 @82> raised ValueError('0 is not a valid FILLORDER')\n",
            "WARNING:tifffile:<tifffile.TiffPage 0 @8> invalid self.subfiletype=b'\\x02\\x00'\n",
            "WARNING:tifffile:<tifffile.TiffTag 266 @82> raised ValueError('0 is not a valid FILLORDER')\n",
            "WARNING:tifffile:<tifffile.TiffPage 0 @8> invalid self.subfiletype=b'\\x02\\x00'\n",
            "WARNING:tifffile:<tifffile.TiffTag 266 @82> raised ValueError('0 is not a valid FILLORDER')\n",
            "WARNING:tifffile:<tifffile.TiffPage 0 @8> invalid self.subfiletype=b'\\x02\\x00'\n",
            "WARNING:tifffile:<tifffile.TiffTag 266 @82> raised ValueError('0 is not a valid FILLORDER')\n",
            "WARNING:tifffile:<tifffile.TiffPage 0 @8> invalid self.subfiletype=b'\\x02\\x00'\n",
            "WARNING:tifffile:<tifffile.TiffTag 266 @82> raised ValueError('0 is not a valid FILLORDER')\n",
            "WARNING:tifffile:<tifffile.TiffPage 0 @8> invalid self.subfiletype=b'\\x02\\x00'\n",
            "WARNING:tifffile:<tifffile.TiffTag 266 @82> raised ValueError('0 is not a valid FILLORDER')\n",
            "WARNING:tifffile:<tifffile.TiffPage 0 @8> invalid self.subfiletype=b'\\x02\\x00'\n",
            "WARNING:tifffile:<tifffile.TiffTag 266 @82> raised ValueError('0 is not a valid FILLORDER')\n",
            "WARNING:tifffile:<tifffile.TiffPage 0 @8> invalid self.subfiletype=b'\\x02\\x00'\n",
            "WARNING:tifffile:<tifffile.TiffTag 266 @82> raised ValueError('0 is not a valid FILLORDER')\n",
            "WARNING:tifffile:<tifffile.TiffPage 0 @8> invalid self.subfiletype=b'\\x02\\x00'\n",
            "WARNING:tifffile:<tifffile.TiffTag 266 @82> raised ValueError('0 is not a valid FILLORDER')\n",
            "WARNING:tifffile:<tifffile.TiffPage 0 @8> invalid self.subfiletype=b'\\x02\\x00'\n",
            "WARNING:tifffile:<tifffile.TiffTag 266 @82> raised ValueError('0 is not a valid FILLORDER')\n",
            "WARNING:tifffile:<tifffile.TiffPage 0 @8> invalid self.subfiletype=b'\\x02\\x00'\n",
            "WARNING:tifffile:<tifffile.TiffTag 266 @82> raised ValueError('0 is not a valid FILLORDER')\n",
            "WARNING:tifffile:<tifffile.TiffPage 0 @8> invalid self.subfiletype=b'\\x02\\x00'\n",
            "WARNING:tifffile:<tifffile.TiffTag 266 @82> raised ValueError('0 is not a valid FILLORDER')\n",
            "WARNING:tifffile:<tifffile.TiffPage 0 @8> invalid self.subfiletype=b'\\x02\\x00'\n",
            "WARNING:tifffile:<tifffile.TiffTag 266 @82> raised ValueError('0 is not a valid FILLORDER')\n",
            "WARNING:tifffile:<tifffile.TiffPage 0 @8> invalid self.subfiletype=b'\\x02\\x00'\n",
            "WARNING:tifffile:<tifffile.TiffTag 266 @82> raised ValueError('0 is not a valid FILLORDER')\n",
            "WARNING:tifffile:<tifffile.TiffPage 0 @8> invalid self.subfiletype=b'\\x02\\x00'\n",
            "WARNING:tifffile:<tifffile.TiffTag 266 @82> raised ValueError('0 is not a valid FILLORDER')\n",
            "WARNING:tifffile:<tifffile.TiffPage 0 @8> invalid self.subfiletype=b'\\x02\\x00'\n",
            "WARNING:tifffile:<tifffile.TiffTag 266 @82> raised ValueError('0 is not a valid FILLORDER')\n",
            "WARNING:tifffile:<tifffile.TiffPage 0 @8> invalid self.subfiletype=b'\\x02\\x00'\n",
            "WARNING:tifffile:<tifffile.TiffTag 266 @82> raised ValueError('0 is not a valid FILLORDER')\n",
            "WARNING:tifffile:<tifffile.TiffPage 0 @8> invalid self.subfiletype=b'\\x02\\x00'\n",
            "WARNING:tifffile:<tifffile.TiffTag 266 @82> raised ValueError('0 is not a valid FILLORDER')\n",
            "WARNING:tifffile:<tifffile.TiffPage 0 @8> invalid self.subfiletype=b'\\x02\\x00'\n",
            "WARNING:tifffile:<tifffile.TiffTag 266 @82> raised ValueError('0 is not a valid FILLORDER')\n",
            "WARNING:tifffile:<tifffile.TiffPage 0 @8> invalid self.subfiletype=b'\\x02\\x00'\n",
            "WARNING:tifffile:<tifffile.TiffTag 266 @82> raised ValueError('0 is not a valid FILLORDER')\n",
            "WARNING:tifffile:<tifffile.TiffPage 0 @8> invalid self.subfiletype=b'\\x02\\x00'\n",
            "WARNING:tifffile:<tifffile.TiffTag 266 @82> raised ValueError('0 is not a valid FILLORDER')\n",
            "WARNING:tifffile:<tifffile.TiffPage 0 @8> invalid self.subfiletype=b'\\x02\\x00'\n",
            "WARNING:tifffile:<tifffile.TiffTag 266 @82> raised ValueError('0 is not a valid FILLORDER')\n",
            "WARNING:tifffile:<tifffile.TiffPage 0 @8> invalid self.subfiletype=b'\\x02\\x00'\n",
            "WARNING:tifffile:<tifffile.TiffTag 266 @82> raised ValueError('0 is not a valid FILLORDER')\n",
            "WARNING:tifffile:<tifffile.TiffPage 0 @8> invalid self.subfiletype=b'\\x02\\x00'\n",
            "WARNING:tifffile:<tifffile.TiffTag 266 @82> raised ValueError('0 is not a valid FILLORDER')\n",
            "WARNING:tifffile:<tifffile.TiffPage 0 @8> invalid self.subfiletype=b'\\x02\\x00'\n",
            "WARNING:tifffile:<tifffile.TiffTag 266 @82> raised ValueError('0 is not a valid FILLORDER')\n",
            "WARNING:tifffile:<tifffile.TiffPage 0 @8> invalid self.subfiletype=b'\\x02\\x00'\n",
            "WARNING:tifffile:<tifffile.TiffTag 266 @82> raised ValueError('0 is not a valid FILLORDER')\n",
            "WARNING:tifffile:<tifffile.TiffPage 0 @8> invalid self.subfiletype=b'\\x02\\x00'\n",
            "WARNING:tifffile:<tifffile.TiffTag 266 @82> raised ValueError('0 is not a valid FILLORDER')\n",
            "WARNING:tifffile:<tifffile.TiffPage 0 @8> invalid self.subfiletype=b'\\x02\\x00'\n",
            "WARNING:tifffile:<tifffile.TiffTag 266 @82> raised ValueError('0 is not a valid FILLORDER')\n",
            "WARNING:tifffile:<tifffile.TiffPage 0 @8> invalid self.subfiletype=b'\\x02\\x00'\n",
            "WARNING:tifffile:<tifffile.TiffTag 266 @82> raised ValueError('0 is not a valid FILLORDER')\n",
            "WARNING:tifffile:<tifffile.TiffPage 0 @8> invalid self.subfiletype=b'\\x02\\x00'\n",
            "WARNING:tifffile:<tifffile.TiffTag 266 @82> raised ValueError('0 is not a valid FILLORDER')\n",
            "WARNING:tifffile:<tifffile.TiffPage 0 @8> invalid self.subfiletype=b'\\x02\\x00'\n",
            "WARNING:tifffile:<tifffile.TiffTag 266 @82> raised ValueError('0 is not a valid FILLORDER')\n",
            "WARNING:tifffile:<tifffile.TiffPage 0 @8> invalid self.subfiletype=b'\\x02\\x00'\n",
            "WARNING:tifffile:<tifffile.TiffTag 266 @82> raised ValueError('0 is not a valid FILLORDER')\n",
            "WARNING:tifffile:<tifffile.TiffPage 0 @8> invalid self.subfiletype=b'\\x02\\x00'\n",
            "WARNING:tifffile:<tifffile.TiffTag 266 @82> raised ValueError('0 is not a valid FILLORDER')\n",
            "WARNING:tifffile:<tifffile.TiffPage 0 @8> invalid self.subfiletype=b'\\x02\\x00'\n",
            "WARNING:tifffile:<tifffile.TiffTag 266 @82> raised ValueError('0 is not a valid FILLORDER')\n",
            "WARNING:tifffile:<tifffile.TiffPage 0 @8> invalid self.subfiletype=b'\\x02\\x00'\n",
            "WARNING:tifffile:<tifffile.TiffTag 266 @82> raised ValueError('0 is not a valid FILLORDER')\n",
            "WARNING:tifffile:<tifffile.TiffPage 0 @8> invalid self.subfiletype=b'\\x02\\x00'\n",
            "WARNING:tifffile:<tifffile.TiffTag 266 @82> raised ValueError('0 is not a valid FILLORDER')\n",
            "WARNING:tifffile:<tifffile.TiffPage 0 @8> invalid self.subfiletype=b'\\x02\\x00'\n",
            "WARNING:tifffile:<tifffile.TiffTag 266 @82> raised ValueError('0 is not a valid FILLORDER')\n",
            "WARNING:tifffile:<tifffile.TiffPage 0 @8> invalid self.subfiletype=b'\\x02\\x00'\n",
            "WARNING:tifffile:<tifffile.TiffTag 266 @82> raised ValueError('0 is not a valid FILLORDER')\n",
            "WARNING:tifffile:<tifffile.TiffPage 0 @8> invalid self.subfiletype=b'\\x02\\x00'\n",
            "WARNING:tifffile:<tifffile.TiffTag 266 @82> raised ValueError('0 is not a valid FILLORDER')\n",
            "WARNING:tifffile:<tifffile.TiffPage 0 @8> invalid self.subfiletype=b'\\x02\\x00'\n",
            "WARNING:tifffile:<tifffile.TiffTag 266 @82> raised ValueError('0 is not a valid FILLORDER')\n",
            "WARNING:tifffile:<tifffile.TiffPage 0 @8> invalid self.subfiletype=b'\\x02\\x00'\n",
            "WARNING:tifffile:<tifffile.TiffTag 266 @82> raised ValueError('0 is not a valid FILLORDER')\n",
            "WARNING:tifffile:<tifffile.TiffPage 0 @8> invalid self.subfiletype=b'\\x02\\x00'\n",
            "WARNING:tifffile:<tifffile.TiffTag 266 @82> raised ValueError('0 is not a valid FILLORDER')\n",
            "WARNING:tifffile:<tifffile.TiffPage 0 @8> invalid self.subfiletype=b'\\x02\\x00'\n",
            "WARNING:tifffile:<tifffile.TiffTag 266 @82> raised ValueError('0 is not a valid FILLORDER')\n",
            "WARNING:tifffile:<tifffile.TiffPage 0 @8> invalid self.subfiletype=b'\\x02\\x00'\n",
            "WARNING:tifffile:<tifffile.TiffTag 266 @82> raised ValueError('0 is not a valid FILLORDER')\n",
            "WARNING:tifffile:<tifffile.TiffPage 0 @8> invalid self.subfiletype=b'\\x02\\x00'\n",
            "WARNING:tifffile:<tifffile.TiffTag 266 @82> raised ValueError('0 is not a valid FILLORDER')\n",
            "WARNING:tifffile:<tifffile.TiffPage 0 @8> invalid self.subfiletype=b'\\x02\\x00'\n",
            "WARNING:tifffile:<tifffile.TiffTag 266 @82> raised ValueError('0 is not a valid FILLORDER')\n",
            "WARNING:tifffile:<tifffile.TiffPage 0 @8> invalid self.subfiletype=b'\\x02\\x00'\n",
            "WARNING:tifffile:<tifffile.TiffTag 266 @82> raised ValueError('0 is not a valid FILLORDER')\n",
            "WARNING:tifffile:<tifffile.TiffPage 0 @8> invalid self.subfiletype=b'\\x02\\x00'\n",
            "WARNING:tifffile:<tifffile.TiffTag 266 @82> raised ValueError('0 is not a valid FILLORDER')\n",
            "WARNING:tifffile:<tifffile.TiffPage 0 @8> invalid self.subfiletype=b'\\x02\\x00'\n",
            "WARNING:tifffile:<tifffile.TiffTag 266 @82> raised ValueError('0 is not a valid FILLORDER')\n",
            "WARNING:tifffile:<tifffile.TiffPage 0 @8> invalid self.subfiletype=b'\\x02\\x00'\n",
            "WARNING:tifffile:<tifffile.TiffTag 266 @82> raised ValueError('0 is not a valid FILLORDER')\n",
            "WARNING:tifffile:<tifffile.TiffPage 0 @8> invalid self.subfiletype=b'\\x02\\x00'\n",
            "WARNING:tifffile:<tifffile.TiffTag 266 @82> raised ValueError('0 is not a valid FILLORDER')\n",
            "WARNING:tifffile:<tifffile.TiffPage 0 @8> invalid self.subfiletype=b'\\x02\\x00'\n",
            "WARNING:tifffile:<tifffile.TiffTag 266 @82> raised ValueError('0 is not a valid FILLORDER')\n",
            "WARNING:tifffile:<tifffile.TiffPage 0 @8> invalid self.subfiletype=b'\\x02\\x00'\n",
            "WARNING:tifffile:<tifffile.TiffTag 266 @82> raised ValueError('0 is not a valid FILLORDER')\n",
            "WARNING:tifffile:<tifffile.TiffPage 0 @8> invalid self.subfiletype=b'\\x02\\x00'\n"
          ]
        }
      ]
    }
  ],
  "metadata": {
    "kernelspec": {
      "display_name": "Python 3 (ipykernel)",
      "language": "python",
      "name": "python3"
    },
    "language_info": {
      "codemirror_mode": {
        "name": "ipython",
        "version": 3
      },
      "file_extension": ".py",
      "mimetype": "text/x-python",
      "name": "python",
      "nbconvert_exporter": "python",
      "pygments_lexer": "ipython3",
      "version": "3.10.15"
    },
    "colab": {
      "provenance": [],
      "include_colab_link": true
    }
  },
  "nbformat": 4,
  "nbformat_minor": 5
}